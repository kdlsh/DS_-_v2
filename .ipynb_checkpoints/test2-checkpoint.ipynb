{
 "cells": [
  {
   "cell_type": "markdown",
   "metadata": {},
   "source": [
    "# Import Library"
   ]
  },
  {
   "cell_type": "code",
   "execution_count": 1,
   "metadata": {},
   "outputs": [],
   "source": [
    "import os\n",
    "import sys\n",
    "import numpy as np\n",
    "import pandas as pd\n",
    "from sqlalchemy import create_engine\n",
    "\n",
    "\n",
    "# 더치페이를 요청한 유저 중 a 가맹점에서 2019년 12월에 1만원 이상 결제한 유저를\n",
    "# 대상으로 리워드를 지급하려고 합니다. 리워드 지급 대상자 user_id를 추출하는 SQL\n",
    "# 쿼리를 작성해주세요.\n",
    "# - 2019년 12월 결제분 중 취소를 반영한 순결제금액 1만원 이상인 유저만을 대상으로 함\n",
    "# - 취소 반영기간은 2020년 2월까지로 함"
   ]
  },
  {
   "cell_type": "markdown",
   "metadata": {},
   "source": [
    "# CSV to SQL-DB"
   ]
  },
  {
   "cell_type": "code",
   "execution_count": 2,
   "metadata": {},
   "outputs": [],
   "source": [
    "# sqlite engine\n",
    "engine = create_engine('sqlite://', echo=False)\n",
    "\n",
    "# read csv files to sqlite db\n",
    "pd.read_csv(\"dutchpay_claim.csv\").to_sql(\"dutchpay_claim\", con=engine)\n",
    "pd.read_csv(\"dutchpay_claim_detail.csv\").to_sql(\"dutchpay_claim_detail\", con=engine)\n",
    "pd.read_csv(\"users.csv\").to_sql(\"users\", con=engine)\n",
    "pd.read_csv(\"a_payment_trx.csv\").to_sql(\"a_payment_trx\", con=engine)"
   ]
  },
  {
   "cell_type": "markdown",
   "metadata": {},
   "source": [
    "# SQL query\n",
    "1. 2020년2월28일 까지 데이터 사용\n",
    "2. 더치페이 요청한 유저로 제한\n",
    "2. 결제취소 포함 transaction_id 제외\n",
    "3. 2019년12월01일 ~ 2019년12월31일 포함\n",
    "4. 총 결제금액 >= 10000원 포함"
   ]
  },
  {
   "cell_type": "code",
   "execution_count": 3,
   "metadata": {},
   "outputs": [],
   "source": [
    "# GROUP BY transaction_id \\\n",
    "sql = \"\"\"SELECT \n",
    "            DISTINCT(user_id)\n",
    "        FROM \n",
    "            a_payment_trx\n",
    "        WHERE \n",
    "            transacted_at <= '2020-02-28' and\n",
    "            user_id in (SELECT DISTINCT(claim_user_id) FROM dutchpay_claim)\n",
    "        GROUP BY \n",
    "            transaction_id\n",
    "        HAVING \n",
    "            GROUP_CONCAT(payment_action_type, ',') NOT LIKE \"%CANCEL%\" and        \n",
    "            transacted_at BETWEEN '2019-12-01' and '2019-12-31' and\n",
    "            SUM(amount)>= 10000\n",
    "      \"\"\"\n",
    "query_list = engine.execute(sql).fetchall()"
   ]
  },
  {
   "cell_type": "code",
   "execution_count": 4,
   "metadata": {},
   "outputs": [
    {
     "data": {
      "text/plain": [
       "686"
      ]
     },
     "execution_count": 4,
     "metadata": {},
     "output_type": "execute_result"
    }
   ],
   "source": [
    "len(query_list)"
   ]
  },
  {
   "cell_type": "code",
   "execution_count": null,
   "metadata": {},
   "outputs": [],
   "source": []
  }
 ],
 "metadata": {
  "kernelspec": {
   "display_name": "Python 3",
   "language": "python",
   "name": "python3"
  },
  "language_info": {
   "codemirror_mode": {
    "name": "ipython",
    "version": 3
   },
   "file_extension": ".py",
   "mimetype": "text/x-python",
   "name": "python",
   "nbconvert_exporter": "python",
   "pygments_lexer": "ipython3",
   "version": "3.7.4"
  }
 },
 "nbformat": 4,
 "nbformat_minor": 2
}
